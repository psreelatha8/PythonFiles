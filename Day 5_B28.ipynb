{
 "cells": [
  {
   "cell_type": "code",
   "execution_count": null,
   "metadata": {},
   "outputs": [],
   "source": [
    "Continuation on the list data type"
   ]
  },
  {
   "cell_type": "code",
   "execution_count": null,
   "metadata": {
    "collapsed": true
   },
   "outputs": [],
   "source": [
    "organising the list :"
   ]
  },
  {
   "cell_type": "code",
   "execution_count": null,
   "metadata": {},
   "outputs": [],
   "source": [
    "2 Different Methods\n",
    "\n",
    "1. SORT ---> Permanent changes to the list.\n",
    "2.SORTED----> Temporary Changes to the list.\n",
    "\n",
    "Interview Questions \n",
    "# what is the difference b/n Sorted & Sort ?\n",
    "#Write a program for even Number in Python\n",
    "#Program for Prime Number\" \n",
    "#Difference b/n List & String (with Syntax)"
   ]
  },
  {
   "cell_type": "code",
   "execution_count": 3,
   "metadata": {},
   "outputs": [
    {
     "name": "stdout",
     "output_type": "stream",
     "text": [
      "['arun', 'bhavna', 'divya', 'hari', 'imran', 'muskan', 'pallabi', 'suresh']\n"
     ]
    }
   ],
   "source": [
    "my_students=['muskan','divya','hari','imran','suresh','pallabi','arun','bhavna']\n",
    "print(sorted(my_students))"
   ]
  },
  {
   "cell_type": "code",
   "execution_count": 4,
   "metadata": {},
   "outputs": [
    {
     "name": "stdout",
     "output_type": "stream",
     "text": [
      "['muskan', 'divya', 'hari', 'imran', 'suresh', 'pallabi', 'arun', 'bhavna']\n"
     ]
    }
   ],
   "source": [
    "print(my_students)"
   ]
  },
  {
   "cell_type": "code",
   "execution_count": 15,
   "metadata": {},
   "outputs": [
    {
     "name": "stdout",
     "output_type": "stream",
     "text": [
      "['arun', 'bhavna', 'divya', 'hari', 'imran', 'muskan', 'pallabi', 'suresh']\n"
     ]
    }
   ],
   "source": [
    "my_students.sort()======>Once Sort used can/t go back\n",
    "print(my_students)"
   ]
  },
  {
   "cell_type": "code",
   "execution_count": 16,
   "metadata": {},
   "outputs": [
    {
     "name": "stdout",
     "output_type": "stream",
     "text": [
      "['suresh', 'pallabi', 'muskan', 'imran', 'hari', 'divya', 'bhavna', 'arun']\n"
     ]
    }
   ],
   "source": [
    "my_students.reverse()====>I want to print the list in a reverse order(Requirement)\n",
    "print(my_students)."
   ]
  },
  {
   "cell_type": "code",
   "execution_count": 17,
   "metadata": {},
   "outputs": [
    {
     "data": {
      "text/plain": [
       "8"
      ]
     },
     "execution_count": 17,
     "metadata": {},
     "output_type": "execute_result"
    }
   ],
   "source": [
    "len(my_students)=====>i wanted to know the Total count of the Students present in the list(Requirement)"
   ]
  },
  {
   "cell_type": "code",
   "execution_count": null,
   "metadata": {},
   "outputs": [],
   "source": [
    "Introduction to Slicing of Lists:"
   ]
  },
  {
   "cell_type": "code",
   "execution_count": 19,
   "metadata": {},
   "outputs": [
    {
     "name": "stdout",
     "output_type": "stream",
     "text": [
      "['suresh', 'pallabi', 'muskan', 'imran', 'hari', 'divya', 'bhavna', 'arun']\n"
     ]
    }
   ],
   "source": [
    "print(my_students)"
   ]
  },
  {
   "cell_type": "code",
   "execution_count": null,
   "metadata": {},
   "outputs": [],
   "source": [
    "General Syntax of a Slicing:\n",
    "[startvalue:stopvalue:stepcount]#last value is always Exclusive"
   ]
  },
  {
   "cell_type": "code",
   "execution_count": 20,
   "metadata": {},
   "outputs": [
    {
     "name": "stdout",
     "output_type": "stream",
     "text": [
      "['suresh']\n"
     ]
    }
   ],
   "source": [
    "print(my_students[0:1])"
   ]
  },
  {
   "cell_type": "code",
   "execution_count": 21,
   "metadata": {},
   "outputs": [
    {
     "name": "stdout",
     "output_type": "stream",
     "text": [
      "['suresh', 'pallabi']\n"
     ]
    }
   ],
   "source": [
    "print(my_students[0:2])"
   ]
  },
  {
   "cell_type": "code",
   "execution_count": 22,
   "metadata": {},
   "outputs": [
    {
     "name": "stdout",
     "output_type": "stream",
     "text": [
      "['muskan', 'imran']\n"
     ]
    }
   ],
   "source": [
    "print(my_students[2:4])"
   ]
  },
  {
   "cell_type": "code",
   "execution_count": 25,
   "metadata": {},
   "outputs": [
    {
     "name": "stdout",
     "output_type": "stream",
     "text": [
      "['hari', 'divya']\n"
     ]
    }
   ],
   "source": [
    "print(my_students[4:6])"
   ]
  },
  {
   "cell_type": "code",
   "execution_count": 26,
   "metadata": {},
   "outputs": [
    {
     "name": "stdout",
     "output_type": "stream",
     "text": [
      "['bhavna', 'arun']\n"
     ]
    }
   ],
   "source": [
    "print(my_students[6:8])"
   ]
  },
  {
   "cell_type": "code",
   "execution_count": null,
   "metadata": {},
   "outputs": [],
   "source": [
    "Getting Alternate Names(Requirement)"
   ]
  },
  {
   "cell_type": "code",
   "execution_count": 27,
   "metadata": {},
   "outputs": [
    {
     "name": "stdout",
     "output_type": "stream",
     "text": [
      "['suresh', 'muskan', 'hari', 'bhavna']\n"
     ]
    }
   ],
   "source": [
    "print(my_students[0:7:2])"
   ]
  },
  {
   "cell_type": "code",
   "execution_count": 28,
   "metadata": {},
   "outputs": [
    {
     "name": "stdout",
     "output_type": "stream",
     "text": [
      "['pallabi', 'imran', 'divya', 'arun']\n"
     ]
    }
   ],
   "source": [
    "print(my_students[1:8:2])"
   ]
  },
  {
   "cell_type": "code",
   "execution_count": null,
   "metadata": {},
   "outputs": [],
   "source": []
  }
 ],
 "metadata": {
  "kernelspec": {
   "display_name": "Python 3",
   "language": "python",
   "name": "python3"
  },
  "language_info": {
   "codemirror_mode": {
    "name": "ipython",
    "version": 3
   },
   "file_extension": ".py",
   "mimetype": "text/x-python",
   "name": "python",
   "nbconvert_exporter": "python",
   "pygments_lexer": "ipython3",
   "version": "3.8.3"
  }
 },
 "nbformat": 4,
 "nbformat_minor": 4
}
